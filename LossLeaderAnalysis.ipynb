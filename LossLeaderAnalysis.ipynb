{
 "cells": [
  {
   "cell_type": "markdown",
   "id": "79b3deec",
   "metadata": {},
   "source": [
    "# Loss Analysis"
   ]
  },
  {
   "cell_type": "code",
   "execution_count": null,
   "id": "b754f56b",
   "metadata": {},
   "outputs": [
    {
     "name": "stdout",
     "output_type": "stream",
     "text": [
      "[Row ID], [Order ID], [Order Date], [Ship Date], [Ship Mode], [Customer ID], [Customer Name], [Segment], [Country], [City], [State], [Postal Code], [Region], [Product ID], [Category], [Sub-Category], [Product Name], [Sales], [Quantity], [Discount], [Profit], "
     ]
    }
   ],
   "source": [
    "import pandas as pd\n",
    "\n",
    "df = pd.read_parquet('fixtypes.parquet')\n",
    "for i in df.columns: print(f\"[{i}]\", end = \", \")"
   ]
  },
  {
   "cell_type": "markdown",
   "id": "de8c5fea",
   "metadata": {},
   "source": [
    "### Find what is likely to indicate a loss / less profit"
   ]
  },
  {
   "cell_type": "code",
   "execution_count": 3,
   "id": "8cec735c",
   "metadata": {},
   "outputs": [
    {
     "name": "stdout",
     "output_type": "stream",
     "text": [
      "                     Profit\n",
      "Ship Mode                  \n",
      "First Class      48969.8399\n",
      "Same Day         15891.7589\n",
      "Second Class     57446.6354\n",
      "Standard Class  164088.7875\n",
      "                  Profit\n",
      "Segment                 \n",
      "Consumer     134119.2092\n",
      "Corporate     91979.1340\n",
      "Home Office   60298.6785\n",
      "                    Profit\n",
      "Country                   \n",
      "United States  286397.0217\n",
      "              Profit\n",
      "Region              \n",
      "Central   39706.3625\n",
      "East      91522.7800\n",
      "South     46749.4303\n",
      "West     108418.4489\n",
      "                      Profit\n",
      "Category                    \n",
      "Furniture         18451.2728\n",
      "Office Supplies  122490.8008\n",
      "Technology       145454.9481\n",
      "               Profit\n",
      "Discount             \n",
      "0.00      320987.6032\n",
      "0.10        9029.1770\n",
      "0.15        1418.9915\n",
      "0.20       90337.3060\n",
      "0.30      -10369.2774\n",
      "0.32       -2391.1377\n",
      "0.40      -23057.0504\n",
      "0.45       -2493.1111\n",
      "0.50      -20506.4281\n",
      "0.60       -5944.6552\n",
      "0.70      -40075.3569\n",
      "0.80      -30539.0392\n"
     ]
    }
   ],
   "source": [
    "lists = [\"Ship Mode\", \"Segment\", \"Country\", \"Region\", \"Category\", \"Discount\"]\n",
    "\n",
    "for i in lists:\n",
    "    data = df[[i, \"Profit\"]]\n",
    "    data = data.groupby([i]).sum()\n",
    "    print(data)"
   ]
  },
  {
   "cell_type": "markdown",
   "id": "97df78bd",
   "metadata": {},
   "source": [
    "from finding total profit from each discount determine over discount make less profit"
   ]
  },
  {
   "cell_type": "markdown",
   "id": "9fcd983b",
   "metadata": {},
   "source": [
    "## What is point of Discount?"
   ]
  },
  {
   "cell_type": "markdown",
   "id": "6ee89e23",
   "metadata": {},
   "source": [
    "The purpose of discount that make loss\n",
    "- Loss Leader Strategy\n",
    "- Urgent Clearance\n",
    "- Market Penetration\n",
    "\n",
    "from data it can analysis Loss Leader Strategy"
   ]
  },
  {
   "cell_type": "markdown",
   "id": "386ac1c9",
   "metadata": {},
   "source": [
    "## Loss Leader Strategy"
   ]
  },
  {
   "cell_type": "markdown",
   "id": "7a2eeac0",
   "metadata": {},
   "source": [
    "Using a loss leader strategy, a store sells a discounted product at a loss to lure customers in, hoping they will also buy additional that allowing the store to make profit\n",
    "\n",
    "### Chain of Thought\n",
    "- when customer get the product that make loss the next product must reduce the loss or make the profit to the store\n",
    "- determine in graph between number of order of customer after buy products that make loss from discount and sum of profit from each customer should be Positive Correlation\n",
    "\n",
    "### Analytical Approach\n",
    "**hypothesis:** when sell an heavy discount product the strategic expectation is that the profit from this customer's subsequent purchases will leading to a profitable long-term relationship\n",
    "\n",
    "analyzed the data to visualize the relationship between two key\n",
    "**X-axis: Total Number of Orders**\n",
    "**Y-axis: Total Net Profit**\n",
    "\n",
    "### Expected Outcome\n",
    "if the hypothesis is correct, the resulting should be positive corelation between x-axis and y-axis\n"
   ]
  },
  {
   "cell_type": "markdown",
   "id": "ac01071e",
   "metadata": {},
   "source": [
    "### data preparation"
   ]
  },
  {
   "cell_type": "code",
   "execution_count": 121,
   "id": "3efaad87",
   "metadata": {},
   "outputs": [],
   "source": [
    "import matplotlib.pyplot as plt\n",
    "\n",
    "customers = dict()\n",
    "\n",
    "#sorted data from Order date\n",
    "sorted_data = df.sort_values(\"Order Date\")\n",
    "\n",
    "for idx,row in df.iterrows():\n",
    "    id, profit = row[\"Customer ID\"], row[\"Profit\"]\n",
    "\n",
    "    if id not in customers and profit < 0:\n",
    "        customers[id] = [profit]\n",
    "        continue\n",
    "    \n",
    "    if id in customers:\n",
    "        customers[id].append(customers[id][len(customers[id])-1] + profit)\n",
    "    "
   ]
  },
  {
   "cell_type": "markdown",
   "id": "dda2e4e1",
   "metadata": {},
   "source": [
    "### Spearman's Rank Correlation"
   ]
  },
  {
   "cell_type": "code",
   "execution_count": null,
   "id": "fd654a40",
   "metadata": {},
   "outputs": [
    {
     "ename": "ModuleNotFoundError",
     "evalue": "No module named 'scipy'",
     "output_type": "error",
     "traceback": [
      "\u001b[31m---------------------------------------------------------------------------\u001b[39m",
      "\u001b[31mModuleNotFoundError\u001b[39m                       Traceback (most recent call last)",
      "\u001b[36mCell\u001b[39m\u001b[36m \u001b[39m\u001b[32mIn[123]\u001b[39m\u001b[32m, line 1\u001b[39m\n\u001b[32m----> \u001b[39m\u001b[32m1\u001b[39m \u001b[38;5;28;01mfrom\u001b[39;00m\u001b[38;5;250m \u001b[39m\u001b[34;01mscipy\u001b[39;00m\u001b[34;01m.\u001b[39;00m\u001b[34;01mstats\u001b[39;00m\u001b[38;5;250m \u001b[39m\u001b[38;5;28;01mimport\u001b[39;00m spearmanr\n\u001b[32m      3\u001b[39m \u001b[38;5;28;01mfor\u001b[39;00m \u001b[38;5;28mid\u001b[39m \u001b[38;5;129;01min\u001b[39;00m customers:\n\u001b[32m      6\u001b[39m     \u001b[38;5;28;01mbreak\u001b[39;00m\n",
      "\u001b[31mModuleNotFoundError\u001b[39m: No module named 'scipy'"
     ]
    }
   ],
   "source": [
    "from scipy.stats import spearmanr\n",
    "\n",
    "for id in customers:\n",
    "    \n",
    "\n",
    "    break"
   ]
  }
 ],
 "metadata": {
  "kernelspec": {
   "display_name": "my-env",
   "language": "python",
   "name": "python3"
  },
  "language_info": {
   "codemirror_mode": {
    "name": "ipython",
    "version": 3
   },
   "file_extension": ".py",
   "mimetype": "text/x-python",
   "name": "python",
   "nbconvert_exporter": "python",
   "pygments_lexer": "ipython3",
   "version": "3.13.2"
  }
 },
 "nbformat": 4,
 "nbformat_minor": 5
}
