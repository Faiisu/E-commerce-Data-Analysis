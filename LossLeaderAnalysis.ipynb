{
 "cells": [
  {
   "cell_type": "markdown",
   "id": "79b3deec",
   "metadata": {},
   "source": [
    "# Loss Analysis"
   ]
  },
  {
   "cell_type": "code",
   "execution_count": 61,
   "id": "1eff6579",
   "metadata": {},
   "outputs": [],
   "source": [
    "import pandas as pd\n",
    "from scipy.stats import spearmanr\n",
    "import numpy as np\n",
    "import matplotlib.pyplot as plt\n",
    "import seaborn as sns"
   ]
  },
  {
   "cell_type": "code",
   "execution_count": 62,
   "id": "b754f56b",
   "metadata": {},
   "outputs": [
    {
     "name": "stdout",
     "output_type": "stream",
     "text": [
      "[Row ID], [Order ID], [Order Date], [Ship Date], [Ship Mode], [Customer ID], [Customer Name], [Segment], [Country], [City], [State], [Postal Code], [Region], [Product ID], [Category], [Sub-Category], [Product Name], [Sales], [Quantity], [Discount], [Profit], "
     ]
    }
   ],
   "source": [
    "df = pd.read_parquet('fixtypes.parquet')\n",
    "for i in df.columns: print(f\"[{i}]\", end = \", \")"
   ]
  },
  {
   "cell_type": "markdown",
   "id": "9fcd983b",
   "metadata": {},
   "source": [
    "## What is point of Discount?"
   ]
  },
  {
   "cell_type": "markdown",
   "id": "6ee89e23",
   "metadata": {},
   "source": [
    "The purpose of discount that make loss\n",
    "- Loss Leader Strategy\n",
    "- Urgent Clearance\n",
    "- Market Penetration\n",
    "\n",
    "from data it can analysis Loss Leader Strategy"
   ]
  },
  {
   "cell_type": "markdown",
   "id": "386ac1c9",
   "metadata": {},
   "source": [
    "## Loss Leader Strategy"
   ]
  },
  {
   "cell_type": "markdown",
   "id": "7a2eeac0",
   "metadata": {},
   "source": [
    "Using a loss leader strategy, a store sells a discounted product at a loss to lure customers in, hoping they will also buy additional that allowing the store to make profit\n",
    "\n",
    "### Chain of Thought\n",
    "- when customer get the product that make loss it should lure the customer for buying more product for making profit to the store\n",
    "- determine in graph between number of order of customer after buy products that make loss from discount and sum of profit from each customer should be Positive Correlation\n",
    "\n",
    "### Analytical Approach\n",
    "**hypothesis:** when sell an heavy discount product the strategic expectation is that the profit from this customer's subsequent purchases will leading to a profitable long-term relationship\n",
    "\n",
    "analyzed the data to visualize the relationship between two key\n",
    "**X-axis: Total Number of Orders of each customer**\n",
    "**Y-axis: Total Net Profit of each customer**\n",
    "using Spearman's rank correlation to find correlation between key then finding average of `Rho` for determine the overall correlation\n",
    "\n",
    "### Expected Outcome\n",
    "if the hypothesis is correct, the resulting should be positive corelation\n"
   ]
  },
  {
   "cell_type": "markdown",
   "id": "ac01071e",
   "metadata": {},
   "source": [
    "### data preparation"
   ]
  },
  {
   "cell_type": "markdown",
   "id": "990714ad",
   "metadata": {},
   "source": [
    "Let the qualifying records be purchases of products sold at a discount so deep that they incur a loss. We then accumulate the profits earned from each customer over their subsequent orders"
   ]
  },
  {
   "cell_type": "code",
   "execution_count": 63,
   "id": "3efaad87",
   "metadata": {},
   "outputs": [],
   "source": [
    "customers = dict()\n",
    "\n",
    "#sorted data from Order date\n",
    "sorted_data = df.sort_values(\"Order Date\")\n",
    "\n",
    "for idx,row in sorted_data.iterrows():\n",
    "    id, profit = row[\"Customer ID\"], row[\"Profit\"]\n",
    "\n",
    "    if id not in customers and profit < 0:\n",
    "        customers[id] = [profit]\n",
    "        continue\n",
    "    \n",
    "    if id in customers:\n",
    "        customers[id].append(customers[id][len(customers[id])-1] + profit)\n",
    "    "
   ]
  },
  {
   "cell_type": "markdown",
   "id": "dda2e4e1",
   "metadata": {},
   "source": [
    "### Spearman's Rank Correlation"
   ]
  },
  {
   "cell_type": "code",
   "execution_count": 64,
   "id": "fd654a40",
   "metadata": {},
   "outputs": [],
   "source": [
    "spearman = dict()\n",
    "\n",
    "for id in customers:\n",
    "    if len(customers[id]) <= 2 : continue #avoid data set that can't finding rho, p_values\n",
    "\n",
    "    x = [i for i in range(1, len(customers[id])+1)]\n",
    "    rho, p_value = spearmanr(x, customers[id])\n",
    "    if rho == np.nan : print(1)\n",
    "\n",
    "    spearman[id] = {\"rho\":rho,\n",
    "                    \"p_value\":p_value}\n",
    "\n",
    "sp_df = pd.DataFrame.from_dict(spearman, orient='index')\n",
    "sp_df.index.name = 'customer_id'\n",
    "    "
   ]
  },
  {
   "cell_type": "markdown",
   "id": "92ea934e",
   "metadata": {},
   "source": [
    "### Data select criteria"
   ]
  },
  {
   "cell_type": "markdown",
   "id": "5bb16561",
   "metadata": {},
   "source": [
    "#### form spearman's correlation\n",
    "data is statistically significant when P-value < 0.05, so I'll choose only p_value < 0.05"
   ]
  },
  {
   "cell_type": "code",
   "execution_count": 65,
   "id": "8afa2b26",
   "metadata": {},
   "outputs": [
    {
     "data": {
      "image/png": "[encoded data removed]",
      "text/plain": [
       "<Figure size 640x480 with 1 Axes>"
      ]
     },
     "metadata": {},
     "output_type": "display_data"
    }
   ],
   "source": [
    "significant_cor = sp_df.query(\"p_value < 0.05\")\n",
    "\n",
    "sns.histplot(significant_cor['rho'], bins=20, kde=True)\n",
    "plt.title('Distribution of Significant Spearman\\'s Rho')\n",
    "plt.xlabel('Spearman\\'s Rho (ρ)')\n",
    "plt.ylabel('Number of Customers')\n",
    "plt.show()"
   ]
  },
  {
   "cell_type": "markdown",
   "id": "8ebbd081",
   "metadata": {},
   "source": [
    "from Distribution of Significant Spearman's Rho can determine overall correlation is positive"
   ]
  },
  {
   "cell_type": "code",
   "execution_count": 66,
   "id": "6bcafcda",
   "metadata": {},
   "outputs": [
    {
     "name": "stdout",
     "output_type": "stream",
     "text": [
      "Average significant Rho: 0.71\n",
      "Median significant Rho: 0.96\n"
     ]
    }
   ],
   "source": [
    "mean_rho = significant_cor['rho'].mean()\n",
    "median_rho = significant_cor['rho'].median()\n",
    "\n",
    "print(f\"Average significant Rho: {mean_rho:.2f}\")\n",
    "print(f\"Median significant Rho: {median_rho:.2f}\")"
   ]
  },
  {
   "cell_type": "markdown",
   "id": "40fe0edb",
   "metadata": {},
   "source": [
    "from Average significant Rho and Median is more than 0 then i can assume as correlation is positive **it can be concluded that Loss Leader Strategy is worked**"
   ]
  },
  {
   "cell_type": "markdown",
   "id": "d0ad3f9d",
   "metadata": {},
   "source": [
    "## Net Profit from loss Leader Strategy"
   ]
  },
  {
   "cell_type": "code",
   "execution_count": 67,
   "id": "e8506cf3",
   "metadata": {},
   "outputs": [
    {
     "name": "stdout",
     "output_type": "stream",
     "text": [
      "89158.37490000005\n"
     ]
    }
   ],
   "source": [
    "total = 0\n",
    "for id in customers:\n",
    "    total += customers[id][len(customers[id])-1]\n",
    "print(total)"
   ]
  }
 ],
 "metadata": {
  "kernelspec": {
   "display_name": "myenv",
   "language": "python",
   "name": "python3"
  },
  "language_info": {
   "codemirror_mode": {
    "name": "ipython",
    "version": 3
   },
   "file_extension": ".py",
   "mimetype": "text/x-python",
   "name": "python",
   "nbconvert_exporter": "python",
   "pygments_lexer": "ipython3",
   "version": "3.13.2"
  }
 },
 "nbformat": 4,
 "nbformat_minor": 5
}
