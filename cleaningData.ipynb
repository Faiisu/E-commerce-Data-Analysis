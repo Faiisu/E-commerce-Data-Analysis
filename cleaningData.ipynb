{
 "cells": [
  {
   "cell_type": "code",
   "execution_count": null,
   "id": "3b05c07c",
   "metadata": {},
   "outputs": [],
   "source": [
    "import pandas as pd\n",
    "\n",
    "df = pd.read_csv('Superstore.csv', encoding=\"latin1\")"
   ]
  },
  {
   "cell_type": "markdown",
   "id": "d14740c1",
   "metadata": {},
   "source": [
    "## Remove / Fix missing data\n",
    "- don't have missing data"
   ]
  },
  {
   "cell_type": "code",
   "execution_count": 2,
   "id": "92065565",
   "metadata": {},
   "outputs": [
    {
     "name": "stdout",
     "output_type": "stream",
     "text": [
      "Row ID           0\n",
      "Order ID         0\n",
      "Order Date       0\n",
      "Ship Date        0\n",
      "Ship Mode        0\n",
      "Customer ID      0\n",
      "Customer Name    0\n",
      "Segment          0\n",
      "Country          0\n",
      "City             0\n",
      "State            0\n",
      "Postal Code      0\n",
      "Region           0\n",
      "Product ID       0\n",
      "Category         0\n",
      "Sub-Category     0\n",
      "Product Name     0\n",
      "Sales            0\n",
      "Quantity         0\n",
      "Discount         0\n",
      "Profit           0\n",
      "dtype: int64\n"
     ]
    }
   ],
   "source": [
    "print(df.isnull().sum())"
   ]
  },
  {
   "cell_type": "markdown",
   "id": "62ea9944",
   "metadata": {},
   "source": [
    "# Remove Duplicated"
   ]
  },
  {
   "cell_type": "code",
   "execution_count": 3,
   "id": "83cf1bc8",
   "metadata": {},
   "outputs": [
    {
     "name": "stdout",
     "output_type": "stream",
     "text": [
      "Empty DataFrame\n",
      "Columns: [Row ID, Order ID, Order Date, Ship Date, Ship Mode, Customer ID, Customer Name, Segment, Country, City, State, Postal Code, Region, Product ID, Category, Sub-Category, Product Name, Sales, Quantity, Discount, Profit]\n",
      "Index: []\n",
      "\n",
      "[0 rows x 21 columns]\n"
     ]
    }
   ],
   "source": [
    "dup = df[df.duplicated()]\n",
    "print(dup) #no Duplicated data (same data in all column)"
   ]
  },
  {
   "cell_type": "markdown",
   "id": "2604fc88",
   "metadata": {},
   "source": [
    "# Fix data types"
   ]
  },
  {
   "cell_type": "code",
   "execution_count": 4,
   "id": "c884bf31",
   "metadata": {},
   "outputs": [
    {
     "data": {
      "text/plain": [
       "Row ID             int64\n",
       "Order ID          object\n",
       "Order Date        object\n",
       "Ship Date         object\n",
       "Ship Mode         object\n",
       "Customer ID       object\n",
       "Customer Name     object\n",
       "Segment           object\n",
       "Country           object\n",
       "City              object\n",
       "State             object\n",
       "Postal Code        int64\n",
       "Region            object\n",
       "Product ID        object\n",
       "Category          object\n",
       "Sub-Category      object\n",
       "Product Name      object\n",
       "Sales            float64\n",
       "Quantity           int64\n",
       "Discount         float64\n",
       "Profit           float64\n",
       "dtype: object"
      ]
     },
     "execution_count": 4,
     "metadata": {},
     "output_type": "execute_result"
    }
   ],
   "source": [
    "df.dtypes"
   ]
  },
  {
   "cell_type": "code",
   "execution_count": 5,
   "id": "dd65efff",
   "metadata": {},
   "outputs": [
    {
     "name": "stdout",
     "output_type": "stream",
     "text": [
      "=== Order ID ===\n",
      "0       CA-2016-152156\n",
      "1       CA-2016-152156\n",
      "2       CA-2016-138688\n",
      "3       US-2015-108966\n",
      "4       US-2015-108966\n",
      "             ...      \n",
      "9989    CA-2014-110422\n",
      "9990    CA-2017-121258\n",
      "9991    CA-2017-121258\n",
      "9992    CA-2017-121258\n",
      "9993    CA-2017-119914\n",
      "Name: Order ID, Length: 9994, dtype: object\n",
      "\n",
      "=== Order Date ===\n",
      "0        11/8/2016\n",
      "1        11/8/2016\n",
      "2        6/12/2016\n",
      "3       10/11/2015\n",
      "4       10/11/2015\n",
      "           ...    \n",
      "9989     1/21/2014\n",
      "9990     2/26/2017\n",
      "9991     2/26/2017\n",
      "9992     2/26/2017\n",
      "9993      5/4/2017\n",
      "Name: Order Date, Length: 9994, dtype: object\n",
      "\n",
      "=== Ship Date ===\n",
      "0       11/11/2016\n",
      "1       11/11/2016\n",
      "2        6/16/2016\n",
      "3       10/18/2015\n",
      "4       10/18/2015\n",
      "           ...    \n",
      "9989     1/23/2014\n",
      "9990      3/3/2017\n",
      "9991      3/3/2017\n",
      "9992      3/3/2017\n",
      "9993      5/9/2017\n",
      "Name: Ship Date, Length: 9994, dtype: object\n",
      "\n",
      "=== Ship Mode ===\n",
      "0         Second Class\n",
      "1         Second Class\n",
      "2         Second Class\n",
      "3       Standard Class\n",
      "4       Standard Class\n",
      "             ...      \n",
      "9989      Second Class\n",
      "9990    Standard Class\n",
      "9991    Standard Class\n",
      "9992    Standard Class\n",
      "9993      Second Class\n",
      "Name: Ship Mode, Length: 9994, dtype: object\n",
      "\n",
      "=== Customer ID ===\n",
      "0       CG-12520\n",
      "1       CG-12520\n",
      "2       DV-13045\n",
      "3       SO-20335\n",
      "4       SO-20335\n",
      "          ...   \n",
      "9989    TB-21400\n",
      "9990    DB-13060\n",
      "9991    DB-13060\n",
      "9992    DB-13060\n",
      "9993    CC-12220\n",
      "Name: Customer ID, Length: 9994, dtype: object\n",
      "\n",
      "=== Customer Name ===\n",
      "0            Claire Gute\n",
      "1            Claire Gute\n",
      "2        Darrin Van Huff\n",
      "3         Sean O'Donnell\n",
      "4         Sean O'Donnell\n",
      "              ...       \n",
      "9989    Tom Boeckenhauer\n",
      "9990         Dave Brooks\n",
      "9991         Dave Brooks\n",
      "9992         Dave Brooks\n",
      "9993        Chris Cortes\n",
      "Name: Customer Name, Length: 9994, dtype: object\n",
      "\n",
      "=== Segment ===\n",
      "0        Consumer\n",
      "1        Consumer\n",
      "2       Corporate\n",
      "3        Consumer\n",
      "4        Consumer\n",
      "          ...    \n",
      "9989     Consumer\n",
      "9990     Consumer\n",
      "9991     Consumer\n",
      "9992     Consumer\n",
      "9993     Consumer\n",
      "Name: Segment, Length: 9994, dtype: object\n",
      "\n",
      "=== Country ===\n",
      "0       United States\n",
      "1       United States\n",
      "2       United States\n",
      "3       United States\n",
      "4       United States\n",
      "            ...      \n",
      "9989    United States\n",
      "9990    United States\n",
      "9991    United States\n",
      "9992    United States\n",
      "9993    United States\n",
      "Name: Country, Length: 9994, dtype: object\n",
      "\n",
      "=== City ===\n",
      "0             Henderson\n",
      "1             Henderson\n",
      "2           Los Angeles\n",
      "3       Fort Lauderdale\n",
      "4       Fort Lauderdale\n",
      "             ...       \n",
      "9989              Miami\n",
      "9990         Costa Mesa\n",
      "9991         Costa Mesa\n",
      "9992         Costa Mesa\n",
      "9993        Westminster\n",
      "Name: City, Length: 9994, dtype: object\n",
      "\n",
      "=== State ===\n",
      "0         Kentucky\n",
      "1         Kentucky\n",
      "2       California\n",
      "3          Florida\n",
      "4          Florida\n",
      "           ...    \n",
      "9989       Florida\n",
      "9990    California\n",
      "9991    California\n",
      "9992    California\n",
      "9993    California\n",
      "Name: State, Length: 9994, dtype: object\n",
      "\n",
      "=== Region ===\n",
      "0       South\n",
      "1       South\n",
      "2        West\n",
      "3       South\n",
      "4       South\n",
      "        ...  \n",
      "9989    South\n",
      "9990     West\n",
      "9991     West\n",
      "9992     West\n",
      "9993     West\n",
      "Name: Region, Length: 9994, dtype: object\n",
      "\n",
      "=== Product ID ===\n",
      "0       FUR-BO-10001798\n",
      "1       FUR-CH-10000454\n",
      "2       OFF-LA-10000240\n",
      "3       FUR-TA-10000577\n",
      "4       OFF-ST-10000760\n",
      "             ...       \n",
      "9989    FUR-FU-10001889\n",
      "9990    FUR-FU-10000747\n",
      "9991    TEC-PH-10003645\n",
      "9992    OFF-PA-10004041\n",
      "9993    OFF-AP-10002684\n",
      "Name: Product ID, Length: 9994, dtype: object\n",
      "\n",
      "=== Category ===\n",
      "0             Furniture\n",
      "1             Furniture\n",
      "2       Office Supplies\n",
      "3             Furniture\n",
      "4       Office Supplies\n",
      "             ...       \n",
      "9989          Furniture\n",
      "9990          Furniture\n",
      "9991         Technology\n",
      "9992    Office Supplies\n",
      "9993    Office Supplies\n",
      "Name: Category, Length: 9994, dtype: object\n",
      "\n",
      "=== Sub-Category ===\n",
      "0         Bookcases\n",
      "1            Chairs\n",
      "2            Labels\n",
      "3            Tables\n",
      "4           Storage\n",
      "           ...     \n",
      "9989    Furnishings\n",
      "9990    Furnishings\n",
      "9991         Phones\n",
      "9992          Paper\n",
      "9993     Appliances\n",
      "Name: Sub-Category, Length: 9994, dtype: object\n",
      "\n",
      "=== Product Name ===\n",
      "0                       Bush Somerset Collection Bookcase\n",
      "1       Hon Deluxe Fabric Upholstered Stacking Chairs,...\n",
      "2       Self-Adhesive Address Labels for Typewriters b...\n",
      "3           Bretford CR4500 Series Slim Rectangular Table\n",
      "4                          Eldon Fold 'N Roll Cart System\n",
      "                              ...                        \n",
      "9989                               Ultra Door Pull Handle\n",
      "9990    Tenex B1-RE Series Chair Mats for Low Pile Car...\n",
      "9991                                Aastra 57i VoIP phone\n",
      "9992    It's Hot Message Books with Stickers, 2 3/4\" x 5\"\n",
      "9993    Acco 7-Outlet Masterpiece Power Center, Wihtou...\n",
      "Name: Product Name, Length: 9994, dtype: object\n",
      "\n"
     ]
    }
   ],
   "source": [
    "obj_col = df.select_dtypes(include='object').columns.tolist()\n",
    "for i in obj_col:\n",
    "    print(f'=== {i} ===')\n",
    "    print(df[i])\n",
    "    print()"
   ]
  },
  {
   "cell_type": "markdown",
   "id": "3c1d9be4",
   "metadata": {},
   "source": [
    "from previous block\n",
    "- Object datatypes can change to string and date"
   ]
  },
  {
   "cell_type": "code",
   "execution_count": 6,
   "id": "29e0497e",
   "metadata": {},
   "outputs": [
    {
     "name": "stdout",
     "output_type": "stream",
     "text": [
      "['Order Date', 'Ship Date']\n",
      "0      2016-11-08\n",
      "1      2016-11-08\n",
      "2      2016-06-12\n",
      "3      2015-10-11\n",
      "4      2015-10-11\n",
      "          ...    \n",
      "9989   2014-01-21\n",
      "9990   2017-02-26\n",
      "9991   2017-02-26\n",
      "9992   2017-02-26\n",
      "9993   2017-05-04\n",
      "Name: Order Date, Length: 9994, dtype: datetime64[ns]\n",
      "0      2016-11-11\n",
      "1      2016-11-11\n",
      "2      2016-06-16\n",
      "3      2015-10-18\n",
      "4      2015-10-18\n",
      "          ...    \n",
      "9989   2014-01-23\n",
      "9990   2017-03-03\n",
      "9991   2017-03-03\n",
      "9992   2017-03-03\n",
      "9993   2017-05-09\n",
      "Name: Ship Date, Length: 9994, dtype: datetime64[ns]\n"
     ]
    }
   ],
   "source": [
    "#change date column type to 'datetime64[ns]'\n",
    "date_obj = [i for i in obj_col if 'date' in i.lower()]\n",
    "print(date_obj)\n",
    "\n",
    "# for i in date_obj: print(df[i]) #they have same format (m/d/y)\n",
    "for i in date_obj:\n",
    "    df[i] = pd.to_datetime(df[i], errors='coerce')\n",
    "    print(df[i])\n"
   ]
  },
  {
   "cell_type": "code",
   "execution_count": 7,
   "id": "3666adf9",
   "metadata": {},
   "outputs": [
    {
     "name": "stdout",
     "output_type": "stream",
     "text": [
      "['Order ID', 'Ship Mode', 'Customer ID', 'Customer Name', 'Segment', 'Country', 'City', 'State', 'Region', 'Product ID', 'Category', 'Sub-Category', 'Product Name']\n"
     ]
    }
   ],
   "source": [
    "#change other object to string\n",
    "to_str_obj = [ i for i in obj_col if not 'date' in i.lower()]\n",
    "print(to_str_obj)\n",
    "\n",
    "for i in to_str_obj:\n",
    "    df[i] = df[i].astype('string')"
   ]
  },
  {
   "cell_type": "code",
   "execution_count": 8,
   "id": "1f921aba",
   "metadata": {},
   "outputs": [
    {
     "data": {
      "text/plain": [
       "Row ID                    int64\n",
       "Order ID         string[python]\n",
       "Order Date       datetime64[ns]\n",
       "Ship Date        datetime64[ns]\n",
       "Ship Mode        string[python]\n",
       "Customer ID      string[python]\n",
       "Customer Name    string[python]\n",
       "Segment          string[python]\n",
       "Country          string[python]\n",
       "City             string[python]\n",
       "State            string[python]\n",
       "Postal Code               int64\n",
       "Region           string[python]\n",
       "Product ID       string[python]\n",
       "Category         string[python]\n",
       "Sub-Category     string[python]\n",
       "Product Name     string[python]\n",
       "Sales                   float64\n",
       "Quantity                  int64\n",
       "Discount                float64\n",
       "Profit                  float64\n",
       "dtype: object"
      ]
     },
     "execution_count": 8,
     "metadata": {},
     "output_type": "execute_result"
    }
   ],
   "source": [
    "df.dtypes"
   ]
  },
  {
   "cell_type": "code",
   "execution_count": 9,
   "id": "7e3ca378",
   "metadata": {},
   "outputs": [],
   "source": [
    "df.to_parquet('fixtypes.parquet', index = False)"
   ]
  }
 ],
 "metadata": {
  "kernelspec": {
   "display_name": "my-env",
   "language": "python",
   "name": "python3"
  },
  "language_info": {
   "codemirror_mode": {
    "name": "ipython",
    "version": 3
   },
   "file_extension": ".py",
   "mimetype": "text/x-python",
   "name": "python",
   "nbconvert_exporter": "python",
   "pygments_lexer": "ipython3",
   "version": "3.13.2"
  }
 },
 "nbformat": 4,
 "nbformat_minor": 5
}
